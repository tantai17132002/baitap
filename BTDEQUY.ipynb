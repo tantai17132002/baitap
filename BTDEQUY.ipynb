{
  "nbformat": 4,
  "nbformat_minor": 0,
  "metadata": {
    "colab": {
      "name": "BTDEQUY.ipynb",
      "provenance": [],
      "authorship_tag": "ABX9TyObu1ouGbFqFE8XNT/Nki+V",
      "include_colab_link": true
    },
    "kernelspec": {
      "name": "python3",
      "display_name": "Python 3"
    }
  },
  "cells": [
    {
      "cell_type": "markdown",
      "metadata": {
        "id": "view-in-github",
        "colab_type": "text"
      },
      "source": [
        "<a href=\"https://colab.research.google.com/github/tantai17132002/baitap/blob/main/BTDEQUY.ipynb\" target=\"_parent\"><img src=\"https://colab.research.google.com/assets/colab-badge.svg\" alt=\"Open In Colab\"/></a>"
      ]
    },
    {
      "cell_type": "markdown",
      "metadata": {
        "id": "ikRU3Iuc7bDD"
      },
      "source": [
        "1. Bài toán tháp Hà Nội:"
      ]
    },
    {
      "cell_type": "code",
      "metadata": {
        "colab": {
          "base_uri": "https://localhost:8080/"
        },
        "id": "VCMLouZp7YY4",
        "outputId": "366cd17d-8bd4-4b08-f780-640a441ff903"
      },
      "source": [
        "def thapHaNoi(n, ToaMot, ToaHai, ToaBa):\r\n",
        "\r\n",
        "  if n == 1:\r\n",
        "      print(\"Chuyen tu\", ToaMot, \"sang\", ToaBa)\r\n",
        "  else:\r\n",
        "      thapHaNoi(n-1, ToaMot, ToaBa, ToaHai)\r\n",
        "      print(\"Chuyen tu\", ToaMot, \"sang\", ToaBa)\r\n",
        "      thapHaNoi(n-1, ToaHai, ToaMot, ToaBa)\r\n",
        "\r\n",
        "thapHaNoi(2,'A','B','C')\r\n"
      ],
      "execution_count": 9,
      "outputs": [
        {
          "output_type": "stream",
          "text": [
            "Chuyen tu A sang B\n",
            "Chuyen tu A sang C\n",
            "Chuyen tu B sang C\n"
          ],
          "name": "stdout"
        }
      ]
    },
    {
      "cell_type": "markdown",
      "metadata": {
        "id": "i4VID3Du_COe"
      },
      "source": [
        "2. Bài Toán UCLN:\r\n"
      ]
    },
    {
      "cell_type": "code",
      "metadata": {
        "colab": {
          "base_uri": "https://localhost:8080/"
        },
        "id": "C-D1gSsL_JV7",
        "outputId": "7abba16a-075e-464e-ef8c-6ca5771f63e1"
      },
      "source": [
        "def uscln(a,b):\r\n",
        "    if (b == 0):\r\n",
        "        return a;\r\n",
        "    return uscln(b, a%b);\r\n",
        "\r\n",
        "a = int(input(\"Nhap so nguyen duong a =\"));\r\n",
        "b = int(input(\"Nhap so nguyen duong b =\"));\r\n",
        "print(\"Ước số chung lớn nhất của\", a, \"và\", b, \"là:\",uscln(a,b)); "
      ],
      "execution_count": 12,
      "outputs": [
        {
          "output_type": "stream",
          "text": [
            "Nhap so nguyen duong a =4\n",
            "Nhap so nguyen duong b =6\n",
            "Ước số chung lớn nhất của 4 và 6 là: 2\n"
          ],
          "name": "stdout"
        }
      ]
    }
  ]
}