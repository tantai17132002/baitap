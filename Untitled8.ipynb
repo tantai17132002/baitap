{
  "nbformat": 4,
  "nbformat_minor": 0,
  "metadata": {
    "colab": {
      "name": "Untitled8.ipynb",
      "provenance": [],
      "authorship_tag": "ABX9TyN3oGxVchLLHjj5Ic+0fvAG",
      "include_colab_link": true
    },
    "kernelspec": {
      "name": "python3",
      "display_name": "Python 3"
    }
  },
  "cells": [
    {
      "cell_type": "markdown",
      "metadata": {
        "id": "view-in-github",
        "colab_type": "text"
      },
      "source": [
        "<a href=\"https://colab.research.google.com/github/tantai17132002/baitap/blob/main/Untitled8.ipynb\" target=\"_parent\"><img src=\"https://colab.research.google.com/assets/colab-badge.svg\" alt=\"Open In Colab\"/></a>"
      ]
    },
    {
      "cell_type": "markdown",
      "metadata": {
        "id": "MGigLhbhObUt"
      },
      "source": [
        "1.Numpy:\r\n"
      ]
    },
    {
      "cell_type": "markdown",
      "metadata": {
        "id": "OD-V8aftRKxU"
      },
      "source": [
        "- tạo ma trận:"
      ]
    },
    {
      "cell_type": "code",
      "metadata": {
        "colab": {
          "base_uri": "https://localhost:8080/"
        },
        "id": "SCuUdEExNSeE",
        "outputId": "a292689e-c36c-40a1-9c1d-2ef4cb1ca568"
      },
      "source": [
        "\r\n",
        "import numpy as np\r\n",
        "\r\n",
        "a = np.array(([(2,3,4,5), (4,6,4,8)],\r\n",
        "              [(2,4,6,2), (3,6,7,2)],\r\n",
        "              [(4,6,3,2), (4,7,9,0,)]), dtype = int)\r\n",
        "print(\"Ma trận A= \",a)\r\n"
      ],
      "execution_count": 1,
      "outputs": [
        {
          "output_type": "stream",
          "text": [
            "Ma trận A=  [[[2 3 4 5]\n",
            "  [4 6 4 8]]\n",
            "\n",
            " [[2 4 6 2]\n",
            "  [3 6 7 2]]\n",
            "\n",
            " [[4 6 3 2]\n",
            "  [4 7 9 0]]]\n"
          ],
          "name": "stdout"
        }
      ]
    },
    {
      "cell_type": "markdown",
      "metadata": {
        "id": "PueWY6oDRg21"
      },
      "source": [
        "- tổng 2 ma trận:"
      ]
    },
    {
      "cell_type": "code",
      "metadata": {
        "colab": {
          "base_uri": "https://localhost:8080/"
        },
        "id": "clqMxuVdRuIO",
        "outputId": "710f848d-6c44-4f82-8804-33a086ff989c"
      },
      "source": [
        "\r\n",
        "\r\n",
        "a = np.array(([(2,3,5,6), (2,7,8,4)]), dtype = int)\r\n",
        "b = np.array(([(2,9,0,1), (7,4,7,8)]), dtype = int)\r\n",
        "print(\"ma trận A= \",a)\r\n",
        "print(\"ma Trận B= \",b)\r\n",
        "print(\"ma trận A+B= \", a+b)"
      ],
      "execution_count": 3,
      "outputs": [
        {
          "output_type": "stream",
          "text": [
            "ma trận A=  [[2 3 5 6]\n",
            " [2 7 8 4]]\n",
            "ma Trận B=  [[2 9 0 1]\n",
            " [7 4 7 8]]\n",
            "ma trận A+B=  [[ 4 12  5  7]\n",
            " [ 9 11 15 12]]\n"
          ],
          "name": "stdout"
        }
      ]
    },
    {
      "cell_type": "markdown",
      "metadata": {
        "id": "kDVlkFoPTTnd"
      },
      "source": [
        "- phép trừ 2 ma trận\r\n"
      ]
    },
    {
      "cell_type": "code",
      "metadata": {
        "colab": {
          "base_uri": "https://localhost:8080/"
        },
        "id": "DspMFD_QTUNe",
        "outputId": "90d07bc3-1ed9-4264-ba5a-71f9cae80239"
      },
      "source": [
        "a = np.array(([(2,3,5,6), (2,7,8,4)]), dtype = int)\r\n",
        "b = np.array(([(2,9,0,1), (7,4,7,8)]), dtype = int)\r\n",
        "print(\"ma trận A= \",a)\r\n",
        "print(\"ma Trận B= \",b)\r\n",
        "print(\"ma trận A-B= \", a-b)"
      ],
      "execution_count": 14,
      "outputs": [
        {
          "output_type": "stream",
          "text": [
            "ma trận A=  [[2 3 5 6]\n",
            " [2 7 8 4]]\n",
            "ma Trận B=  [[2 9 0 1]\n",
            " [7 4 7 8]]\n",
            "ma trận A-B=  [[ 0 -6  5  5]\n",
            " [-5  3  1 -4]]\n"
          ],
          "name": "stdout"
        }
      ]
    },
    {
      "cell_type": "markdown",
      "metadata": {
        "id": "CofH3OLaR0gN"
      },
      "source": [
        "- Tính tích 2 ma trận:"
      ]
    },
    {
      "cell_type": "code",
      "metadata": {
        "colab": {
          "base_uri": "https://localhost:8080/"
        },
        "id": "oYd0C9sOSBUF",
        "outputId": "7b4d29a4-914f-49c6-cab7-59964ac29223"
      },
      "source": [
        "\r\n",
        "\r\n",
        "a = np.array(([((6,8),(3,9)), ((6,3),(8,3))]), dtype = int)\r\n",
        "b = np.array(([(5,7,3,7), (6,2,7,2)]), dtype = int)\r\n",
        "print(\"ma trận C= \",a)\r\n",
        "print(\"ma trận D= \",b)\r\n",
        "print(\"ma trận C*D= \", a @ b)      "
      ],
      "execution_count": 5,
      "outputs": [
        {
          "output_type": "stream",
          "text": [
            "ma trận C=  [[[6 8]\n",
            "  [3 9]]\n",
            "\n",
            " [[6 3]\n",
            "  [8 3]]]\n",
            "ma trận D=  [[5 7 3 7]\n",
            " [6 2 7 2]]\n",
            "ma trận C*D=  [[[78 58 74 58]\n",
            "  [69 39 72 39]]\n",
            "\n",
            " [[48 48 39 48]\n",
            "  [58 62 45 62]]]\n"
          ],
          "name": "stdout"
        }
      ]
    },
    {
      "cell_type": "markdown",
      "metadata": {
        "id": "PBcJfLS1W_65"
      },
      "source": [
        "- phép chia 2 ma trận"
      ]
    },
    {
      "cell_type": "code",
      "metadata": {
        "colab": {
          "base_uri": "https://localhost:8080/"
        },
        "id": "Twb3dtNgXP9u",
        "outputId": "644d7880-5e14-4767-9f1c-db9dc598188f"
      },
      "source": [
        "a = np.array(([((6,3,9)), ((6,8,3))]), dtype = int)\r\n",
        "b = np.array(([(5,3,7), (6,7,2)]), dtype = int)\r\n",
        "print(\"ma trận C/D= \", a/b)   "
      ],
      "execution_count": 24,
      "outputs": [
        {
          "output_type": "stream",
          "text": [
            "ma trận C/D=  [[1.2        1.         1.28571429]\n",
            " [1.         1.14285714 1.5       ]]\n"
          ],
          "name": "stdout"
        }
      ]
    },
    {
      "cell_type": "code",
      "metadata": {
        "id": "jJJnVMuPXA70"
      },
      "source": [
        "a = np.array(([((6,8),(3,9)), ((6,3),(8,3))]), dtype = int)\r\n",
        "b = np.array(([(5,7,3,7), (6,2,7,2)]), dtype = int)\r\n",
        "print(\"ma trận C= \",a)\r\n",
        "print(\"ma trận D= \",b)\r\n",
        "print(\"ma trận C*D= \", a @ b)      "
      ],
      "execution_count": null,
      "outputs": []
    },
    {
      "cell_type": "markdown",
      "metadata": {
        "id": "4Dq8NbU6SQnO"
      },
      "source": [
        "- tính chuyển vị ma trận:"
      ]
    },
    {
      "cell_type": "code",
      "metadata": {
        "colab": {
          "base_uri": "https://localhost:8080/"
        },
        "id": "vQGNFk5CSZ5V",
        "outputId": "9d0ece57-7c8c-4637-8ee8-093dd452ebd7"
      },
      "source": [
        "\r\n",
        "\r\n",
        "a = np.array(([(4,6,8,2),(6,3,7,2)]), dtype = int)\r\n",
        "b = np.transpose(a)   \r\n",
        "print(\"ma trận A= \", a)\r\n",
        "print(\"ma trận chuyển vị of A\", b)   \r\n"
      ],
      "execution_count": 6,
      "outputs": [
        {
          "output_type": "stream",
          "text": [
            "ma trận A=  [[4 6 8 2]\n",
            " [6 3 7 2]]\n",
            "ma trận chuyển vị of A [[4 6]\n",
            " [6 3]\n",
            " [8 7]\n",
            " [2 2]]\n"
          ],
          "name": "stdout"
        }
      ]
    },
    {
      "cell_type": "markdown",
      "metadata": {
        "id": "u3EJoc4VS5Zu"
      },
      "source": [
        ""
      ]
    }
  ]
}