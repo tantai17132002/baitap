{
  "nbformat": 4,
  "nbformat_minor": 0,
  "metadata": {
    "colab": {
      "name": "btlaptrinh(c2).ipynb",
      "provenance": [],
      "authorship_tag": "ABX9TyNw/4bNj+/uK2AZXYcL5PJ7",
      "include_colab_link": true
    },
    "kernelspec": {
      "name": "python3",
      "display_name": "Python 3"
    }
  },
  "cells": [
    {
      "cell_type": "markdown",
      "metadata": {
        "id": "view-in-github",
        "colab_type": "text"
      },
      "source": [
        "<a href=\"https://colab.research.google.com/github/tantai17132002/baitap/blob/main/btlaptrinh(c2).ipynb\" target=\"_parent\"><img src=\"https://colab.research.google.com/assets/colab-badge.svg\" alt=\"Open In Colab\"/></a>"
      ]
    },
    {
      "cell_type": "markdown",
      "metadata": {
        "id": "uFuOGvewux9q"
      },
      "source": [
        "**Bài tập lập trình chương 2**\n"
      ]
    },
    {
      "cell_type": "markdown",
      "metadata": {
        "id": "0M_Qr7S6vLAb"
      },
      "source": [
        "Bài 1: Lập trình nhập vào từ bàn phím 2 số nguyên và tính:"
      ]
    },
    {
      "cell_type": "code",
      "metadata": {
        "id": "B-Xcwfd_tHpD",
        "outputId": "2b13e858-1304-4d41-e8fc-202d2b028488",
        "colab": {
          "base_uri": "https://localhost:8080/"
        }
      },
      "source": [
        "a=int( input(\" a= \"))\n",
        "b=int( input(\" b= \"))\n",
        "c=a+b\n",
        "print(\"a+b\",c)\n",
        "d=a*b\n",
        "print(\"a*b\",d)\n",
        "e=a-b\n",
        "print(\"a-b\",e)\n",
        "f=a%b\n",
        "print(\"a%b\",f)\n",
        "g=a//b\n",
        "print(\"a//b\",g)\n"
      ],
      "execution_count": 21,
      "outputs": [
        {
          "output_type": "stream",
          "text": [
            " a= 4\n",
            " b= 5\n",
            "a+b 9\n",
            "a*b 20\n",
            "a-b -1\n",
            "a%b 4\n",
            "a//b 0\n"
          ],
          "name": "stdout"
        }
      ]
    },
    {
      "cell_type": "markdown",
      "metadata": {
        "id": "0kPUKhKu0F8I"
      },
      "source": [
        "Bài 2: Lập trình nhập vào từ bàn phím 2 số thực và tính:"
      ]
    },
    {
      "cell_type": "code",
      "metadata": {
        "id": "za8lIzPn0Ey_",
        "outputId": "7f437fda-d529-4c55-f449-903c6085ca4b",
        "colab": {
          "base_uri": "https://localhost:8080/"
        }
      },
      "source": [
        "a=float(input(\"a= \"))\n",
        "b=float(input(\"b= \"))\n",
        "c=a+b\n",
        "print(\"a+b\",c)\n",
        "d=a*b\n",
        "print(\"a*b\",d)\n",
        "e=a-b\n",
        "print(\"a-b\",e)\n",
        "f=a/b\n",
        "print(\"a/b\",f)"
      ],
      "execution_count": 3,
      "outputs": [
        {
          "output_type": "stream",
          "text": [
            "a= 5\n",
            "b= 6\n",
            "a+b 11.0\n",
            "a*b 30.0\n",
            "a-b -1.0\n",
            "a/b 0.8333333333333334\n"
          ],
          "name": "stdout"
        }
      ]
    },
    {
      "cell_type": "markdown",
      "metadata": {
        "id": "4sdQjtTW164Q"
      },
      "source": [
        "Bài 3: (Sử dụng các hàm toán học) Nhập một số từ bàn phím và tính:"
      ]
    },
    {
      "cell_type": "code",
      "metadata": {
        "id": "gjlPNanC15Nd",
        "outputId": "fb10fcf4-4634-49fd-84c4-3046c28f065d",
        "colab": {
          "base_uri": "https://localhost:8080/"
        }
      },
      "source": [
        "a=-8\n",
        "print(\"gia tri tuyet doi cua \",a,\"la \", abs(a))\n",
        "print(\"lay phan nguyen cua \",a, \"la \", int(a))\n",
        "print(\"chuyen doi thanh so thuc\",a,\"la \", float(a))\n",
        "b=5\n",
        "print(\"luy thua a mu b\",\"la \", pow(a,b))\n",
        "print(\"can bat 2 cua a la: \",math.sqrt(abs(a)))\n"
      ],
      "execution_count": 59,
      "outputs": [
        {
          "output_type": "stream",
          "text": [
            "gia tri tuyet doi cua  -8 la  8\n",
            "lay phan nguyen cua  -8 la  -8\n",
            "chuyen doi thanh so thuc -8 la  -8.0\n",
            "luy thua a mu b la  -32768\n",
            "can bat 2 cua a la:  2.8284271247461903\n"
          ],
          "name": "stdout"
        }
      ]
    },
    {
      "cell_type": "markdown",
      "metadata": {
        "id": "gPDjvT_p2AP-"
      },
      "source": [
        "Bài 4: Nhập 2 số từ bàn phím và thực hiện các phép so sánh sau giữa 2 số:\n"
      ]
    },
    {
      "cell_type": "code",
      "metadata": {
        "id": "-iIVR-V6JwR8",
        "outputId": "744be785-1949-4380-941c-3087e8917a30",
        "colab": {
          "base_uri": "https://localhost:8080/"
        }
      },
      "source": [
        "print(4 >= 7)\n",
        "print(4 <= 7)\n",
        "print(4 > 7)\n",
        "print(4 < 7)\n",
        "print(4 != 7)\n",
        "a= True\n",
        "print(a)"
      ],
      "execution_count": 75,
      "outputs": [
        {
          "output_type": "stream",
          "text": [
            "False\n",
            "True\n",
            "False\n",
            "True\n",
            "True\n",
            "True\n"
          ],
          "name": "stdout"
        }
      ]
    },
    {
      "cell_type": "markdown",
      "metadata": {
        "id": "qyr1YRrQ2KQx"
      },
      "source": [
        "Bài 5: Nhập 1 chuỗi ký tự từ bàn phím"
      ]
    },
    {
      "cell_type": "code",
      "metadata": {
        "id": "rY79T9Dw2EDI",
        "outputId": "594aa3c9-d512-44e3-d21c-fae41e007bd5",
        "colab": {
          "base_uri": "https://localhost:8080/"
        }
      },
      "source": [
        "str1= \" Bai tap lap trinh chuong 2 \"\n",
        "print(str1.upper())\n",
        "str= \" Bai tap lap trinh chuong 2 \"\n",
        "print(str.lower())\n"
      ],
      "execution_count": 79,
      "outputs": [
        {
          "output_type": "stream",
          "text": [
            " BAI TAP LAP TRINH CHUONG 2 \n",
            " bai tap lap trinh chuong 2 \n"
          ],
          "name": "stdout"
        }
      ]
    },
    {
      "cell_type": "markdown",
      "metadata": {
        "id": "RdlVDX1v2eSU"
      },
      "source": [
        "Bài 6: Xuất ra màn hình 1 chuỗi ký từ nằm trên nhiều hàng "
      ]
    },
    {
      "cell_type": "code",
      "metadata": {
        "id": "xQMJ3gEz2P64",
        "outputId": "33a19f81-e69a-42d9-9ca8-c6bbc3449509",
        "colab": {
          "base_uri": "https://localhost:8080/"
        }
      },
      "source": [
        "tho=\"\"\"Em ơi! Dẫu sống trăm năm\n",
        "Đến khi chết xuống, anh nằm không yên\n",
        "Bởi đời đẹp quá đi, em!\n",
        "Yêu rồi, yêu mãi, yêu thêm chẳng thừa\n",
        "Yêu đời biết mấy cho bưa\n",
        "Cả khi cay đắng đời chưa hết tình…\n",
        "Tiếng gà lại giục bình minh\n",
        "Đã yêu cuộc sống, nằm thinh được nào!\n",
        "Giản đơn chiếc áo mặc vào,\n",
        "Cởi ra còn nhớ, huống bao năm trường\n",
        "Yêu đời trong máu, trong xương\n",
        "Lòng anh hạt muối đại dương bồi hồi\n",
        "Quê anh cà nhút mặn mòi\n",
        "Sinh anh muối mặn yêu đời, đó em….\"\"\"\n",
        "print(tho)"
      ],
      "execution_count": 2,
      "outputs": [
        {
          "output_type": "stream",
          "text": [
            "Em ơi! Dẫu sống trăm năm\n",
            "Đến khi chết xuống, anh nằm không yên\n",
            "Bởi đời đẹp quá đi, em!\n",
            "Yêu rồi, yêu mãi, yêu thêm chẳng thừa\n",
            "Yêu đời biết mấy cho bưa\n",
            "Cả khi cay đắng đời chưa hết tình…\n",
            "Tiếng gà lại giục bình minh\n",
            "Đã yêu cuộc sống, nằm thinh được nào!\n",
            "Giản đơn chiếc áo mặc vào,\n",
            "Cởi ra còn nhớ, huống bao năm trường\n",
            "Yêu đời trong máu, trong xương\n",
            "Lòng anh hạt muối đại dương bồi hồi\n",
            "Quê anh cà nhút mặn mòi\n",
            "Sinh anh muối mặn yêu đời, đó em….\n"
          ],
          "name": "stdout"
        }
      ]
    }
  ]
}