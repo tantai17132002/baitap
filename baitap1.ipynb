{
  "nbformat": 4,
  "nbformat_minor": 0,
  "metadata": {
    "colab": {
      "name": "baitap1.ipynb",
      "provenance": [],
      "authorship_tag": "ABX9TyOhV3IWqZa3f0dqnPBAjLYp",
      "include_colab_link": true
    },
    "kernelspec": {
      "name": "python3",
      "display_name": "Python 3"
    }
  },
  "cells": [
    {
      "cell_type": "markdown",
      "metadata": {
        "id": "view-in-github",
        "colab_type": "text"
      },
      "source": [
        "<a href=\"https://colab.research.google.com/github/tantai17132002/baitap/blob/main/baitap1.ipynb\" target=\"_parent\"><img src=\"https://colab.research.google.com/assets/colab-badge.svg\" alt=\"Open In Colab\"/></a>"
      ]
    },
    {
      "cell_type": "markdown",
      "metadata": {
        "id": "9iHKhVqPEPN4"
      },
      "source": [
        "**Đây là chương trình đầu tiên**"
      ]
    },
    {
      "cell_type": "code",
      "metadata": {
        "id": "nTXmkYnODgp6",
        "outputId": "1e99c7fc-ea48-4101-9f76-de299e8f45e8",
        "colab": {
          "base_uri": "https://localhost:8080/"
        }
      },
      "source": [
        "print(\"Hello Github & Colab\")"
      ],
      "execution_count": 1,
      "outputs": [
        {
          "output_type": "stream",
          "text": [
            "Hello Github & Colab\n"
          ],
          "name": "stdout"
        }
      ]
    }
  ]
}