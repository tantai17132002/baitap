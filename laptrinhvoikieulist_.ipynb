{
  "nbformat": 4,
  "nbformat_minor": 0,
  "metadata": {
    "colab": {
      "name": "laptrinhvoikieulist .ipynb",
      "provenance": [],
      "authorship_tag": "ABX9TyMAZ3iSxOKpJS6znQW5wPUI",
      "include_colab_link": true
    },
    "kernelspec": {
      "name": "python3",
      "display_name": "Python 3"
    }
  },
  "cells": [
    {
      "cell_type": "markdown",
      "metadata": {
        "id": "view-in-github",
        "colab_type": "text"
      },
      "source": [
        "<a href=\"https://colab.research.google.com/github/tantai17132002/baitap/blob/main/laptrinhvoikieulist_.ipynb\" target=\"_parent\"><img src=\"https://colab.research.google.com/assets/colab-badge.svg\" alt=\"Open In Colab\"/></a>"
      ]
    },
    {
      "cell_type": "code",
      "metadata": {
        "id": "ODP8lsh5ua7o",
        "outputId": "53560a21-8271-4ada-9e3a-2981820bd47d",
        "colab": {
          "base_uri": "https://localhost:8080/"
        }
      },
      "source": [
        "#Tạo 1 biến x kiểu list rỗng\n",
        "x=[]\n",
        "#Thêm giá trị 18 vào x\n",
        "x.append(18)\n",
        "#Thêm giá trị \"Huế\" vào x\n",
        "x.append(\"Huế\")\n",
        "#Tạo 1 list y\n",
        "y=[12, 45, -1, -0.56, \"abc\" ]\n",
        "#Thêm y vào x\n",
        "x.extend(y)\n",
        "#Xuất giá trị của x ra màn hình\n",
        "print(x)\n",
        "#in ra màn hình giá trị phần tử đầu tiên của x\n",
        "print(\"x[0] \", x[0])\n",
        "#In ra màn hình giá trị phần tử cuối cùng của x\n",
        "print(\"x[6]\", x[6])\n",
        "#In ra màn hình giá trị phần tử đầu tiên đến phần tử thứ 5 của x\n",
        "print(\"x[0:5]\", x[0:5])\n",
        "#In ra màn hình giá trị phần tử thứ 3 đến phần tử cuối cùng của x\n",
        "print(\"x[3:]\", x[3:])"
      ],
      "execution_count": 1,
      "outputs": [
        {
          "output_type": "stream",
          "text": [
            "[18, 'Huế', 12, 45, -1, -0.56, 'abc']\n",
            "x[0]  18\n",
            "x[6] abc\n",
            "x[0:5] [18, 'Huế', 12, 45, -1]\n",
            "x[3:] [45, -1, -0.56, 'abc']\n"
          ],
          "name": "stdout"
        }
      ]
    }
  ]
}